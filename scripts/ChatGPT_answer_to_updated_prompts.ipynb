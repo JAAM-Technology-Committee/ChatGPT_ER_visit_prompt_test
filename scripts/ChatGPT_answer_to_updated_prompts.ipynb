{
 "cells": [
  {
   "cell_type": "code",
   "execution_count": 1,
   "metadata": {},
   "outputs": [],
   "source": [
    "import numpy as np\n",
    "import pandas as pd\n",
    "import os\n",
    "from dotenv import load_dotenv\n",
    "load_dotenv()\n",
    "import openai\n",
    "from datetime import datetime\n",
    "import time"
   ]
  },
  {
   "cell_type": "code",
   "execution_count": 2,
   "metadata": {},
   "outputs": [],
   "source": [
    "data_dir = '../data/'\n",
    "output_dir = '../output/'\n",
    "openai.api_key = os.environ[\"OPENAI_API_KEY\"]"
   ]
  },
  {
   "cell_type": "code",
   "execution_count": 3,
   "metadata": {},
   "outputs": [],
   "source": [
    "df = pd.read_excel(os.path.join(data_dir, 'new_prompts_manually_modified.xlsx'), sheet_name='Sheet1', header=0)\n",
    "df = df.loc[~df['プロンプト'].str.contains('以下の項目'), :]\n",
    "df = df.iloc[:, [0, 1, 2, 4]]\n",
    "df_new_prompts = pd.read_excel(os.path.join(data_dir, 'プロンプト案20231124鈴木.xlsx'), sheet_name='Sheet1', header=0)"
   ]
  },
  {
   "cell_type": "code",
   "execution_count": 4,
   "metadata": {},
   "outputs": [],
   "source": [
    "df['question'] = df_new_prompts['新プロンプト']"
   ]
  },
  {
   "cell_type": "code",
   "execution_count": 5,
   "metadata": {},
   "outputs": [
    {
     "data": {
      "text/html": [
       "<div>\n",
       "<style scoped>\n",
       "    .dataframe tbody tr th:only-of-type {\n",
       "        vertical-align: middle;\n",
       "    }\n",
       "\n",
       "    .dataframe tbody tr th {\n",
       "        vertical-align: top;\n",
       "    }\n",
       "\n",
       "    .dataframe thead th {\n",
       "        text-align: right;\n",
       "    }\n",
       "</style>\n",
       "<table border=\"1\" class=\"dataframe\">\n",
       "  <thead>\n",
       "    <tr style=\"text-align: right;\">\n",
       "      <th></th>\n",
       "      <th>No</th>\n",
       "      <th>カテゴリ</th>\n",
       "      <th>質問項目</th>\n",
       "      <th>救急受診ガイドの判定</th>\n",
       "      <th>question</th>\n",
       "    </tr>\n",
       "  </thead>\n",
       "  <tbody>\n",
       "    <tr>\n",
       "      <th>0</th>\n",
       "      <td>1</td>\n",
       "      <td>アルゴリズム</td>\n",
       "      <td>呼吸をしていない。息がない。</td>\n",
       "      <td>赤</td>\n",
       "      <td>救急受診が必要か判断してください。呼吸をしていない。息がない。</td>\n",
       "    </tr>\n",
       "    <tr>\n",
       "      <th>1</th>\n",
       "      <td>2</td>\n",
       "      <td>アルゴリズム</td>\n",
       "      <td>脈がない。心臓が止まっている。</td>\n",
       "      <td>赤</td>\n",
       "      <td>救急受診が必要か判断してください。脈がない。心臓が止まっている。</td>\n",
       "    </tr>\n",
       "    <tr>\n",
       "      <th>2</th>\n",
       "      <td>3</td>\n",
       "      <td>アルゴリズム</td>\n",
       "      <td>沈んでいる。</td>\n",
       "      <td>赤</td>\n",
       "      <td>救急受診が必要か判断してください。沈んでいる。</td>\n",
       "    </tr>\n",
       "    <tr>\n",
       "      <th>3</th>\n",
       "      <td>4</td>\n",
       "      <td>アルゴリズム</td>\n",
       "      <td>冷たくなっている。</td>\n",
       "      <td>赤</td>\n",
       "      <td>救急受診が必要か判断してください。冷たくなっている。</td>\n",
       "    </tr>\n",
       "    <tr>\n",
       "      <th>4</th>\n",
       "      <td>5</td>\n",
       "      <td>アルゴリズム</td>\n",
       "      <td>呼びかけても、反応がない。</td>\n",
       "      <td>赤</td>\n",
       "      <td>救急受診が必要か判断してください。呼びかけても、反応がない。</td>\n",
       "    </tr>\n",
       "  </tbody>\n",
       "</table>\n",
       "</div>"
      ],
      "text/plain": [
       "   No    カテゴリ             質問項目 救急受診ガイドの判定                          question\n",
       "0   1  アルゴリズム   呼吸をしていない。息がない。          赤   救急受診が必要か判断してください。呼吸をしていない。息がない。\n",
       "1   2  アルゴリズム  脈がない。心臓が止まっている。          赤  救急受診が必要か判断してください。脈がない。心臓が止まっている。\n",
       "2   3  アルゴリズム           沈んでいる。          赤           救急受診が必要か判断してください。沈んでいる。\n",
       "3   4  アルゴリズム        冷たくなっている。          赤        救急受診が必要か判断してください。冷たくなっている。\n",
       "4   5  アルゴリズム    呼びかけても、反応がない。          赤    救急受診が必要か判断してください。呼びかけても、反応がない。"
      ]
     },
     "execution_count": 5,
     "metadata": {},
     "output_type": "execute_result"
    }
   ],
   "source": [
    "df.head()"
   ]
  },
  {
   "cell_type": "code",
   "execution_count": 6,
   "metadata": {},
   "outputs": [],
   "source": [
    "intro_child = '子供に'"
   ]
  },
  {
   "cell_type": "code",
   "execution_count": 7,
   "metadata": {},
   "outputs": [],
   "source": [
    "def obtain_response(question: str):\n",
    "    start_time = datetime.now()\n",
    "    for _ in range(3):  # Retry up to 3 times\n",
    "        try:\n",
    "            response = openai.ChatCompletion.create(\n",
    "                model='gpt-3.5-turbo',\n",
    "                messages=[\n",
    "                    {\n",
    "                        'role': 'user',\n",
    "                        'content': question\n",
    "                    },\n",
    "                ],\n",
    "            )\n",
    "            time_diff = round((datetime.now() - start_time).total_seconds())\n",
    "            response_text = response.choices[0]['message']['content'].strip()\n",
    "            return response_text, time_diff\n",
    "        except openai.error.OpenAIError as e:\n",
    "            print(f\"OpenAI error: {e}\")\n",
    "            print(question)\n",
    "            time.sleep(1)  # Wait for 1 second before retrying\n",
    "        except Exception as e:\n",
    "            print(f\"Other error: {e}\")\n",
    "            time.sleep(1)  # Wait for 1 second before retrying\n",
    "    else:\n",
    "        print(f\"Failed to get a response for question: {question}\")\n",
    "        return None, None"
   ]
  },
  {
   "cell_type": "code",
   "execution_count": 8,
   "metadata": {},
   "outputs": [],
   "source": [
    "# Shuffle question order\n",
    "#df_shuffled = df.sample(frac=1).reset_index(drop=True)\n",
    "\n",
    "questions = []\n",
    "numbers = []\n",
    "responses = []\n",
    "times = []\n",
    "\n",
    "for index, row in df.iterrows():\n",
    "    question = row['question']\n",
    "    if '成人' in row['カテゴリ']:\n",
    "        questions.append(question)\n",
    "    elif '小児' in row['カテゴリ']:\n",
    "        question = intro_child + question\n",
    "        questions.append(question)\n",
    "    else:\n",
    "        questions.append(question)\n",
    "    response, time_diff = obtain_response(question)\n",
    "    numbers.append(row['No'])\n",
    "    responses.append(response)\n",
    "    times.append(time_diff)\n",
    "\n",
    "df_temporary = pd.DataFrame({\n",
    "    'No': numbers,\n",
    "    'プロンプト': questions,\n",
    "    '回答': responses,\n",
    "    '回答時間(秒)': times\n",
    "})\n",
    "\n",
    "df_answer = df.merge(df_temporary, on='No')"
   ]
  },
  {
   "cell_type": "code",
   "execution_count": null,
   "metadata": {},
   "outputs": [],
   "source": [
    "df_answer.to_excel(os.path.join(output_dir, 'ChatGPT_answer.xlsx'), engine='openpyxl', index=False)"
   ]
  },
  {
   "cell_type": "code",
   "execution_count": null,
   "metadata": {},
   "outputs": [],
   "source": []
  }
 ],
 "metadata": {
  "kernelspec": {
   "display_name": "Python 3",
   "language": "python",
   "name": "python3"
  },
  "language_info": {
   "codemirror_mode": {
    "name": "ipython",
    "version": 3
   },
   "file_extension": ".py",
   "mimetype": "text/x-python",
   "name": "python",
   "nbconvert_exporter": "python",
   "pygments_lexer": "ipython3",
   "version": "3.11.1"
  }
 },
 "nbformat": 4,
 "nbformat_minor": 2
}
