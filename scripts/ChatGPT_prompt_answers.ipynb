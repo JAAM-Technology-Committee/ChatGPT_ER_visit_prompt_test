{
 "cells": [
  {
   "cell_type": "code",
   "execution_count": 3,
   "metadata": {},
   "outputs": [],
   "source": [
    "import pandas as pd\n",
    "import os\n",
    "import openai\n",
    "from datetime import datetime\n",
    "import time"
   ]
  },
  {
   "cell_type": "code",
   "execution_count": 4,
   "metadata": {},
   "outputs": [],
   "source": [
    "from dotenv import load_dotenv\n",
    "load_dotenv()\n",
    "openai.api_key = os.environ[\"OPENAI_API_KEY\"] # Assume OpenAI API key is stored in the `.env` file"
   ]
  },
  {
   "cell_type": "code",
   "execution_count": 5,
   "metadata": {},
   "outputs": [],
   "source": [
    "data_dir = '../data/'\n",
    "output_dir = '../output/'"
   ]
  },
  {
   "cell_type": "code",
   "execution_count": 6,
   "metadata": {},
   "outputs": [],
   "source": [
    "df = pd.read_csv(os.path.join(data_dir, 'ChatGPT_ERvisit_prompt.csv'))"
   ]
  },
  {
   "cell_type": "code",
   "execution_count": 9,
   "metadata": {},
   "outputs": [
    {
     "data": {
      "text/html": [
       "<div>\n",
       "<style scoped>\n",
       "    .dataframe tbody tr th:only-of-type {\n",
       "        vertical-align: middle;\n",
       "    }\n",
       "\n",
       "    .dataframe tbody tr th {\n",
       "        vertical-align: top;\n",
       "    }\n",
       "\n",
       "    .dataframe thead th {\n",
       "        text-align: right;\n",
       "    }\n",
       "</style>\n",
       "<table border=\"1\" class=\"dataframe\">\n",
       "  <thead>\n",
       "    <tr style=\"text-align: right;\">\n",
       "      <th></th>\n",
       "      <th>No</th>\n",
       "      <th>カテゴリ</th>\n",
       "      <th>質問項目</th>\n",
       "      <th>プロンプト</th>\n",
       "      <th>救急受診ガイドの判定</th>\n",
       "    </tr>\n",
       "  </thead>\n",
       "  <tbody>\n",
       "    <tr>\n",
       "      <th>0</th>\n",
       "      <td>1</td>\n",
       "      <td>アルゴリズム</td>\n",
       "      <td>呼吸をしていない。息がない。</td>\n",
       "      <td>あなたは救急医です。救急受診が必要かどうかを判断してください。呼吸をしていない。息がない。はい。</td>\n",
       "      <td>赤</td>\n",
       "    </tr>\n",
       "    <tr>\n",
       "      <th>1</th>\n",
       "      <td>2</td>\n",
       "      <td>アルゴリズム</td>\n",
       "      <td>脈がない。心臓が止まっている。</td>\n",
       "      <td>あなたは救急医です。救急受診が必要かどうかを判断してください。脈がない。心臓が止まっている。はい。</td>\n",
       "      <td>赤</td>\n",
       "    </tr>\n",
       "    <tr>\n",
       "      <th>2</th>\n",
       "      <td>3</td>\n",
       "      <td>アルゴリズム</td>\n",
       "      <td>沈んでいる。</td>\n",
       "      <td>あなたは救急医です。救急受診が必要かどうかを判断してください。沈んでいる。はい。</td>\n",
       "      <td>赤</td>\n",
       "    </tr>\n",
       "    <tr>\n",
       "      <th>3</th>\n",
       "      <td>4</td>\n",
       "      <td>アルゴリズム</td>\n",
       "      <td>冷たくなっている。</td>\n",
       "      <td>あなたは救急医です。救急受診が必要かどうかを判断してください。冷たくなっている。はい。</td>\n",
       "      <td>赤</td>\n",
       "    </tr>\n",
       "    <tr>\n",
       "      <th>4</th>\n",
       "      <td>5</td>\n",
       "      <td>アルゴリズム</td>\n",
       "      <td>呼びかけても、反応がない。</td>\n",
       "      <td>あなたは救急医です。救急受診が必要かどうかを判断してください。呼びかけても、反応がない。はい。</td>\n",
       "      <td>赤</td>\n",
       "    </tr>\n",
       "  </tbody>\n",
       "</table>\n",
       "</div>"
      ],
      "text/plain": [
       "   No    カテゴリ             質問項目  \\\n",
       "0   1  アルゴリズム   呼吸をしていない。息がない。   \n",
       "1   2  アルゴリズム  脈がない。心臓が止まっている。   \n",
       "2   3  アルゴリズム           沈んでいる。   \n",
       "3   4  アルゴリズム        冷たくなっている。   \n",
       "4   5  アルゴリズム    呼びかけても、反応がない。   \n",
       "\n",
       "                                               プロンプト 救急受診ガイドの判定  \n",
       "0   あなたは救急医です。救急受診が必要かどうかを判断してください。呼吸をしていない。息がない。はい。          赤  \n",
       "1  あなたは救急医です。救急受診が必要かどうかを判断してください。脈がない。心臓が止まっている。はい。          赤  \n",
       "2           あなたは救急医です。救急受診が必要かどうかを判断してください。沈んでいる。はい。          赤  \n",
       "3        あなたは救急医です。救急受診が必要かどうかを判断してください。冷たくなっている。はい。          赤  \n",
       "4    あなたは救急医です。救急受診が必要かどうかを判断してください。呼びかけても、反応がない。はい。          赤  "
      ]
     },
     "execution_count": 9,
     "metadata": {},
     "output_type": "execute_result"
    }
   ],
   "source": [
    "df.head()"
   ]
  },
  {
   "cell_type": "code",
   "execution_count": 5,
   "metadata": {},
   "outputs": [],
   "source": [
    "def obtain_response(question: str):\n",
    "    start_time = datetime.now()\n",
    "    for _ in range(3):  # Retry up to 3 times\n",
    "        try:\n",
    "            response = openai.ChatCompletion.create(\n",
    "                model='gpt-3.5-turbo',\n",
    "                messages=[\n",
    "                    {\n",
    "                        'role': 'user',\n",
    "                        'content': question\n",
    "                    },\n",
    "                ],\n",
    "                logprobs = 0, # Do not store conversation history in OpenAI's system\n",
    "            )\n",
    "            time_diff = round((datetime.now() - start_time).total_seconds())\n",
    "            response_text = response.choices[0]['message']['content'].strip()\n",
    "            return response_text, time_diff\n",
    "        except openai.error.OpenAIError as e:\n",
    "            print(f\"OpenAI error: {e}\")\n",
    "            time.sleep(1)  # Wait for 1 second before retrying\n",
    "        except Exception as e:\n",
    "            print(f\"Other error: {e}\")\n",
    "            time.sleep(1)  # Wait for 1 second before retrying\n",
    "    else:\n",
    "        print(f\"Failed to get a response for question: {question}\")\n",
    "        return None, None"
   ]
  },
  {
   "cell_type": "code",
   "execution_count": 6,
   "metadata": {},
   "outputs": [
    {
     "name": "stdout",
     "output_type": "stream",
     "text": [
      "OpenAI error: HTTP code 502 from API (<html>\n",
      "<head><title>502 Bad Gateway</title></head>\n",
      "<body>\n",
      "<center><h1>502 Bad Gateway</h1></center>\n",
      "<hr><center>cloudflare</center>\n",
      "</body>\n",
      "</html>\n",
      ")\n"
     ]
    }
   ],
   "source": [
    "# Shuffle question order\n",
    "df = df.sample(frac=1).reset_index(drop=True)\n",
    "\n",
    "numbers = []\n",
    "questions = []\n",
    "responses = []\n",
    "times = []\n",
    "\n",
    "for index, row in df.iterrows():\n",
    "    question = str(row['プロンプト'])\n",
    "    response, time_diff = obtain_response(question)\n",
    "    numbers.append(row['No'])\n",
    "    questions.append(question)\n",
    "    responses.append(response)\n",
    "    times.append(time_diff)"
   ]
  },
  {
   "cell_type": "code",
   "execution_count": 9,
   "metadata": {},
   "outputs": [],
   "source": [
    "df_answer = pd.DataFrame({\n",
    "    'No': numbers,\n",
    "    'プロンプト': questions,\n",
    "    '回答': responses,\n",
    "    '回答時間(秒)': times\n",
    "})"
   ]
  },
  {
   "cell_type": "code",
   "execution_count": 8,
   "metadata": {},
   "outputs": [],
   "source": [
    "df_answer.to_csv(os.path.join(output_dir, 'test_random50_ChatGPT_answer.csv'), encoding='utf-8-sig', index=False)"
   ]
  },
  {
   "cell_type": "code",
   "execution_count": null,
   "metadata": {},
   "outputs": [],
   "source": []
  }
 ],
 "metadata": {
  "kernelspec": {
   "display_name": "Python 3",
   "language": "python",
   "name": "python3"
  },
  "language_info": {
   "codemirror_mode": {
    "name": "ipython",
    "version": 3
   },
   "file_extension": ".py",
   "mimetype": "text/x-python",
   "name": "python",
   "nbconvert_exporter": "python",
   "pygments_lexer": "ipython3",
   "version": "3.11.1"
  }
 },
 "nbformat": 4,
 "nbformat_minor": 2
}
